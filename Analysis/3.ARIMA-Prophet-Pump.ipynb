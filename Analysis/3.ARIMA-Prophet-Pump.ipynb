{
 "cells": [
  {
   "cell_type": "code",
   "execution_count": 1,
   "id": "3256c349-763f-40dc-8fdf-dd9d8c09d510",
   "metadata": {},
   "outputs": [],
   "source": [
    "%matplotlib inline\n",
    "import pandas as pd\n",
    "from prophet import Prophet\n",
    "\n",
    "import matplotlib.pyplot as plt\n",
    "plt.style.use('fivethirtyeight')"
   ]
  },
  {
   "cell_type": "code",
   "execution_count": 2,
   "id": "6b3fda5a-0625-426b-8074-8b1fb7369d45",
   "metadata": {},
   "outputs": [],
   "source": [
    "df = pd.read_csv('samples/gagok.csv') #, index_col=0, parse_dates=Tru)"
   ]
  },
  {
   "cell_type": "code",
   "execution_count": 3,
   "id": "512db7ae-c8e3-4e72-b2f2-4606f008a48c",
   "metadata": {},
   "outputs": [],
   "source": [
    "df.drop(columns=['pa','pb'],inplace=True)"
   ]
  },
  {
   "cell_type": "code",
   "execution_count": 4,
   "id": "66e33b3e-70c5-4bb6-a750-226485b287da",
   "metadata": {},
   "outputs": [],
   "source": [
    "df = df.rename(columns={'t':'ds', 'level': 'y'})"
   ]
  },
  {
   "cell_type": "code",
   "execution_count": 16,
   "id": "32244f3e-1ab4-44f0-bce0-eea1ea6d9731",
   "metadata": {},
   "outputs": [
    {
     "data": {
      "text/plain": [
       "ds    datetime64[ns]\n",
       "y            float64\n",
       "dtype: object"
      ]
     },
     "execution_count": 16,
     "metadata": {},
     "output_type": "execute_result"
    }
   ],
   "source": [
    "df['ds'] = pd.DatetimeIndex(df['ds'])\n",
    "df.dtypes"
   ]
  },
  {
   "cell_type": "code",
   "execution_count": 17,
   "id": "a2c76f4a-31a0-401c-8d3a-cad68cbb9416",
   "metadata": {},
   "outputs": [
    {
     "data": {
      "text/html": [
       "<div>\n",
       "<style scoped>\n",
       "    .dataframe tbody tr th:only-of-type {\n",
       "        vertical-align: middle;\n",
       "    }\n",
       "\n",
       "    .dataframe tbody tr th {\n",
       "        vertical-align: top;\n",
       "    }\n",
       "\n",
       "    .dataframe thead th {\n",
       "        text-align: right;\n",
       "    }\n",
       "</style>\n",
       "<table border=\"1\" class=\"dataframe\">\n",
       "  <thead>\n",
       "    <tr style=\"text-align: right;\">\n",
       "      <th></th>\n",
       "      <th>ds</th>\n",
       "      <th>y</th>\n",
       "    </tr>\n",
       "  </thead>\n",
       "  <tbody>\n",
       "    <tr>\n",
       "      <th>0</th>\n",
       "      <td>2019-12-01 00:00:00</td>\n",
       "      <td>69.600</td>\n",
       "    </tr>\n",
       "    <tr>\n",
       "      <th>1</th>\n",
       "      <td>2019-12-01 00:01:00</td>\n",
       "      <td>69.900</td>\n",
       "    </tr>\n",
       "    <tr>\n",
       "      <th>2</th>\n",
       "      <td>2019-12-01 00:02:00</td>\n",
       "      <td>69.475</td>\n",
       "    </tr>\n",
       "    <tr>\n",
       "      <th>3</th>\n",
       "      <td>2019-12-01 00:03:00</td>\n",
       "      <td>69.875</td>\n",
       "    </tr>\n",
       "    <tr>\n",
       "      <th>4</th>\n",
       "      <td>2019-12-01 00:04:00</td>\n",
       "      <td>69.900</td>\n",
       "    </tr>\n",
       "    <tr>\n",
       "      <th>...</th>\n",
       "      <td>...</td>\n",
       "      <td>...</td>\n",
       "    </tr>\n",
       "    <tr>\n",
       "      <th>525585</th>\n",
       "      <td>2020-11-30 23:55:00</td>\n",
       "      <td>66.575</td>\n",
       "    </tr>\n",
       "    <tr>\n",
       "      <th>525586</th>\n",
       "      <td>2020-11-30 23:56:00</td>\n",
       "      <td>67.000</td>\n",
       "    </tr>\n",
       "    <tr>\n",
       "      <th>525587</th>\n",
       "      <td>2020-11-30 23:57:00</td>\n",
       "      <td>66.675</td>\n",
       "    </tr>\n",
       "    <tr>\n",
       "      <th>525588</th>\n",
       "      <td>2020-11-30 23:58:00</td>\n",
       "      <td>66.075</td>\n",
       "    </tr>\n",
       "    <tr>\n",
       "      <th>525589</th>\n",
       "      <td>2020-11-30 23:59:00</td>\n",
       "      <td>66.800</td>\n",
       "    </tr>\n",
       "  </tbody>\n",
       "</table>\n",
       "<p>525590 rows × 2 columns</p>\n",
       "</div>"
      ],
      "text/plain": [
       "                        ds       y\n",
       "0      2019-12-01 00:00:00  69.600\n",
       "1      2019-12-01 00:01:00  69.900\n",
       "2      2019-12-01 00:02:00  69.475\n",
       "3      2019-12-01 00:03:00  69.875\n",
       "4      2019-12-01 00:04:00  69.900\n",
       "...                    ...     ...\n",
       "525585 2020-11-30 23:55:00  66.575\n",
       "525586 2020-11-30 23:56:00  67.000\n",
       "525587 2020-11-30 23:57:00  66.675\n",
       "525588 2020-11-30 23:58:00  66.075\n",
       "525589 2020-11-30 23:59:00  66.800\n",
       "\n",
       "[525590 rows x 2 columns]"
      ]
     },
     "execution_count": 17,
     "metadata": {},
     "output_type": "execute_result"
    }
   ],
   "source": [
    "df"
   ]
  },
  {
   "cell_type": "code",
   "execution_count": 18,
   "id": "34bdda42-5580-40a7-84a4-52f38b93742d",
   "metadata": {},
   "outputs": [],
   "source": [
    "# Whole Period  (2019-12-01 ~ 2020-11-30)\n",
    "START_DAY = '2020-07-02'\n",
    "END_DAY = '2020-07-26'"
   ]
  },
  {
   "cell_type": "code",
   "execution_count": 19,
   "id": "aa231624-172c-4cb1-90e8-9a3446c73bcd",
   "metadata": {
    "tags": []
   },
   "outputs": [],
   "source": [
    "# Prepare data\n",
    "dfgagok = df.copy(deep=True)"
   ]
  },
  {
   "cell_type": "code",
   "execution_count": 26,
   "id": "d2c396f9-8b66-43ff-a6b6-d6fca16243a5",
   "metadata": {},
   "outputs": [],
   "source": [
    "df2 = df[(df.ds>=START_DAY) & (df.ds<END_DAY)]"
   ]
  },
  {
   "cell_type": "code",
   "execution_count": 27,
   "id": "836230c3-f16e-4462-9f96-b1cdfe28e82d",
   "metadata": {},
   "outputs": [
    {
     "data": {
      "text/html": [
       "<div>\n",
       "<style scoped>\n",
       "    .dataframe tbody tr th:only-of-type {\n",
       "        vertical-align: middle;\n",
       "    }\n",
       "\n",
       "    .dataframe tbody tr th {\n",
       "        vertical-align: top;\n",
       "    }\n",
       "\n",
       "    .dataframe thead th {\n",
       "        text-align: right;\n",
       "    }\n",
       "</style>\n",
       "<table border=\"1\" class=\"dataframe\">\n",
       "  <thead>\n",
       "    <tr style=\"text-align: right;\">\n",
       "      <th></th>\n",
       "      <th>ds</th>\n",
       "      <th>y</th>\n",
       "    </tr>\n",
       "  </thead>\n",
       "  <tbody>\n",
       "    <tr>\n",
       "      <th>306714</th>\n",
       "      <td>2020-07-02 00:00:00</td>\n",
       "      <td>60.400</td>\n",
       "    </tr>\n",
       "    <tr>\n",
       "      <th>306715</th>\n",
       "      <td>2020-07-02 00:01:00</td>\n",
       "      <td>61.625</td>\n",
       "    </tr>\n",
       "    <tr>\n",
       "      <th>306716</th>\n",
       "      <td>2020-07-02 00:02:00</td>\n",
       "      <td>61.225</td>\n",
       "    </tr>\n",
       "    <tr>\n",
       "      <th>306717</th>\n",
       "      <td>2020-07-02 00:03:00</td>\n",
       "      <td>61.550</td>\n",
       "    </tr>\n",
       "    <tr>\n",
       "      <th>306718</th>\n",
       "      <td>2020-07-02 00:04:00</td>\n",
       "      <td>60.950</td>\n",
       "    </tr>\n",
       "    <tr>\n",
       "      <th>...</th>\n",
       "      <td>...</td>\n",
       "      <td>...</td>\n",
       "    </tr>\n",
       "    <tr>\n",
       "      <th>341269</th>\n",
       "      <td>2020-07-25 23:55:00</td>\n",
       "      <td>55.550</td>\n",
       "    </tr>\n",
       "    <tr>\n",
       "      <th>341270</th>\n",
       "      <td>2020-07-25 23:56:00</td>\n",
       "      <td>55.750</td>\n",
       "    </tr>\n",
       "    <tr>\n",
       "      <th>341271</th>\n",
       "      <td>2020-07-25 23:57:00</td>\n",
       "      <td>55.700</td>\n",
       "    </tr>\n",
       "    <tr>\n",
       "      <th>341272</th>\n",
       "      <td>2020-07-25 23:58:00</td>\n",
       "      <td>55.750</td>\n",
       "    </tr>\n",
       "    <tr>\n",
       "      <th>341273</th>\n",
       "      <td>2020-07-25 23:59:00</td>\n",
       "      <td>55.825</td>\n",
       "    </tr>\n",
       "  </tbody>\n",
       "</table>\n",
       "<p>34560 rows × 2 columns</p>\n",
       "</div>"
      ],
      "text/plain": [
       "                        ds       y\n",
       "306714 2020-07-02 00:00:00  60.400\n",
       "306715 2020-07-02 00:01:00  61.625\n",
       "306716 2020-07-02 00:02:00  61.225\n",
       "306717 2020-07-02 00:03:00  61.550\n",
       "306718 2020-07-02 00:04:00  60.950\n",
       "...                    ...     ...\n",
       "341269 2020-07-25 23:55:00  55.550\n",
       "341270 2020-07-25 23:56:00  55.750\n",
       "341271 2020-07-25 23:57:00  55.700\n",
       "341272 2020-07-25 23:58:00  55.750\n",
       "341273 2020-07-25 23:59:00  55.825\n",
       "\n",
       "[34560 rows x 2 columns]"
      ]
     },
     "execution_count": 27,
     "metadata": {},
     "output_type": "execute_result"
    }
   ],
   "source": [
    "df2"
   ]
  },
  {
   "cell_type": "code",
   "execution_count": 28,
   "id": "6cf07c48-602b-4b98-90e6-e67a47544fbb",
   "metadata": {},
   "outputs": [],
   "source": [
    "df2 = df2[::10]"
   ]
  },
  {
   "cell_type": "code",
   "execution_count": 29,
   "id": "fc2ef3cf-b246-4955-8291-2531e0401a42",
   "metadata": {},
   "outputs": [
    {
     "data": {
      "text/plain": [
       "Text(0.5, 1.0, 'Water Level Data')"
      ]
     },
     "execution_count": 29,
     "metadata": {},
     "output_type": "execute_result"
    },
    {
     "data": {
      "image/png": "[encoded data removed]",
      "text/plain": [
       "<Figure size 864x144 with 1 Axes>"
      ]
     },
     "metadata": {},
     "output_type": "display_data"
    }
   ],
   "source": [
    "ax = df2.set_index('ds').plot(figsize=(12, 2))\n",
    "ax.set_ylabel('level')\n",
    "ax.set_xlabel('Date')\n",
    "plt.title('Water Level Data')"
   ]
  },
  {
   "cell_type": "code",
   "execution_count": 30,
   "id": "700b4cb9-0fbd-4279-a1f5-57d84cc1a571",
   "metadata": {},
   "outputs": [],
   "source": [
    "train = df2[df2.ds<'2020-07-23']"
   ]
  },
  {
   "cell_type": "code",
   "execution_count": 31,
   "id": "28eeb469-06a1-4c72-b607-cdd29175886e",
   "metadata": {
    "tags": []
   },
   "outputs": [
    {
     "name": "stdout",
     "output_type": "stream",
     "text": [
      "                        ds       y\n",
      "306714 2020-07-02 00:00:00  60.400\n",
      "306724 2020-07-02 00:10:00  61.075\n",
      "306734 2020-07-02 00:20:00  60.225\n",
      "306744 2020-07-02 00:30:00  59.500\n",
      "306754 2020-07-02 00:40:00  59.625\n",
      "...                    ...     ...\n",
      "336904 2020-07-22 23:10:00  65.900\n",
      "336914 2020-07-22 23:20:00  65.375\n",
      "336924 2020-07-22 23:30:00  65.775\n",
      "336934 2020-07-22 23:40:00  65.175\n",
      "336944 2020-07-22 23:50:00  64.950\n",
      "\n",
      "[3024 rows x 2 columns]\n"
     ]
    }
   ],
   "source": [
    "print(train)"
   ]
  },
  {
   "cell_type": "code",
   "execution_count": 33,
   "id": "5895167b-9939-4a49-b007-0696ee800377",
   "metadata": {},
   "outputs": [],
   "source": [
    "train.ds.freq='10min'"
   ]
  },
  {
   "cell_type": "code",
   "execution_count": 34,
   "id": "c9426a57-9cc0-4277-bdf8-e5c36e91f9b9",
   "metadata": {},
   "outputs": [
    {
     "data": {
      "text/plain": [
       "306714   2020-07-02 00:00:00\n",
       "306724   2020-07-02 00:10:00\n",
       "306734   2020-07-02 00:20:00\n",
       "306744   2020-07-02 00:30:00\n",
       "306754   2020-07-02 00:40:00\n",
       "                 ...        \n",
       "336904   2020-07-22 23:10:00\n",
       "336914   2020-07-22 23:20:00\n",
       "336924   2020-07-22 23:30:00\n",
       "336934   2020-07-22 23:40:00\n",
       "336944   2020-07-22 23:50:00\n",
       "Name: ds, Length: 3024, dtype: datetime64[ns]"
      ]
     },
     "execution_count": 34,
     "metadata": {},
     "output_type": "execute_result"
    }
   ],
   "source": [
    "train.ds"
   ]
  },
  {
   "cell_type": "code",
   "execution_count": 36,
   "id": "1aa03c2a-fae0-4585-8e30-4967ed27e9c1",
   "metadata": {},
   "outputs": [
    {
     "name": "stderr",
     "output_type": "stream",
     "text": [
      "INFO:prophet:Disabling yearly seasonality. Run prophet with yearly_seasonality=True to override this.\n",
      "/usr/local/lib/python3.9/dist-packages/prophet/forecaster.py:896: FutureWarning: The frame.append method is deprecated and will be removed from pandas in a future version. Use pandas.concat instead.\n",
      "  components = components.append(new_comp)\n"
     ]
    },
    {
     "name": "stdout",
     "output_type": "stream",
     "text": [
      "Initial log joint probability = -9.15969\n"
     ]
    },
    {
     "data": {
      "text/plain": [
       "<prophet.forecaster.Prophet at 0xffff4ae41a60>"
      ]
     },
     "execution_count": 36,
     "metadata": {},
     "output_type": "execute_result"
    },
    {
     "name": "stdout",
     "output_type": "stream",
     "text": [
      "    Iter      log prob        ||dx||      ||grad||       alpha      alpha0  # evals  Notes \n",
      "      99       6748.36   0.000229088       95.2755      0.3693           1      127   \n",
      "    Iter      log prob        ||dx||      ||grad||       alpha      alpha0  # evals  Notes \n",
      "     129       6748.43   0.000222854       172.224   2.784e-06       0.001      202  LS failed, Hessian reset \n",
      "     181       6748.47   2.61277e-05       88.9844   2.466e-07       0.001      309  LS failed, Hessian reset \n",
      "     199       6748.47   1.45316e-05       72.0184           1           1      330   \n",
      "    Iter      log prob        ||dx||      ||grad||       alpha      alpha0  # evals  Notes \n",
      "     212       6748.47   2.35968e-07       68.5042      0.1738           1      350   \n",
      "Optimization terminated normally: \n",
      "  Convergence detected: relative gradient magnitude is below tolerance\n"
     ]
    }
   ],
   "source": [
    "# Train a model\n",
    "my_model = Prophet(interval_width=0.95, daily_seasonality=True) # set the uncertainty interval to 95% (the Prophet default is 80%)\n",
    "my_model.fit(train)"
   ]
  },
  {
   "cell_type": "code",
   "execution_count": 37,
   "id": "0af730fb-8673-4ee1-9a89-c78385a45b79",
   "metadata": {},
   "outputs": [],
   "source": [
    "# Forecast future data\n",
    "future_dates = my_model.make_future_dataframe(periods=6*24*3, freq='10min') # (6 times an hour * 24 hours * 3 days)"
   ]
  },
  {
   "cell_type": "code",
   "execution_count": 38,
   "id": "5e624893-00bf-4f40-96d8-c42acac981c3",
   "metadata": {},
   "outputs": [
    {
     "data": {
      "text/html": [
       "<div>\n",
       "<style scoped>\n",
       "    .dataframe tbody tr th:only-of-type {\n",
       "        vertical-align: middle;\n",
       "    }\n",
       "\n",
       "    .dataframe tbody tr th {\n",
       "        vertical-align: top;\n",
       "    }\n",
       "\n",
       "    .dataframe thead th {\n",
       "        text-align: right;\n",
       "    }\n",
       "</style>\n",
       "<table border=\"1\" class=\"dataframe\">\n",
       "  <thead>\n",
       "    <tr style=\"text-align: right;\">\n",
       "      <th></th>\n",
       "      <th>ds</th>\n",
       "    </tr>\n",
       "  </thead>\n",
       "  <tbody>\n",
       "    <tr>\n",
       "      <th>0</th>\n",
       "      <td>2020-07-02 00:00:00</td>\n",
       "    </tr>\n",
       "    <tr>\n",
       "      <th>1</th>\n",
       "      <td>2020-07-02 00:10:00</td>\n",
       "    </tr>\n",
       "    <tr>\n",
       "      <th>2</th>\n",
       "      <td>2020-07-02 00:20:00</td>\n",
       "    </tr>\n",
       "    <tr>\n",
       "      <th>3</th>\n",
       "      <td>2020-07-02 00:30:00</td>\n",
       "    </tr>\n",
       "    <tr>\n",
       "      <th>4</th>\n",
       "      <td>2020-07-02 00:40:00</td>\n",
       "    </tr>\n",
       "    <tr>\n",
       "      <th>...</th>\n",
       "      <td>...</td>\n",
       "    </tr>\n",
       "    <tr>\n",
       "      <th>3451</th>\n",
       "      <td>2020-07-25 23:10:00</td>\n",
       "    </tr>\n",
       "    <tr>\n",
       "      <th>3452</th>\n",
       "      <td>2020-07-25 23:20:00</td>\n",
       "    </tr>\n",
       "    <tr>\n",
       "      <th>3453</th>\n",
       "      <td>2020-07-25 23:30:00</td>\n",
       "    </tr>\n",
       "    <tr>\n",
       "      <th>3454</th>\n",
       "      <td>2020-07-25 23:40:00</td>\n",
       "    </tr>\n",
       "    <tr>\n",
       "      <th>3455</th>\n",
       "      <td>2020-07-25 23:50:00</td>\n",
       "    </tr>\n",
       "  </tbody>\n",
       "</table>\n",
       "<p>3456 rows × 1 columns</p>\n",
       "</div>"
      ],
      "text/plain": [
       "                      ds\n",
       "0    2020-07-02 00:00:00\n",
       "1    2020-07-02 00:10:00\n",
       "2    2020-07-02 00:20:00\n",
       "3    2020-07-02 00:30:00\n",
       "4    2020-07-02 00:40:00\n",
       "...                  ...\n",
       "3451 2020-07-25 23:10:00\n",
       "3452 2020-07-25 23:20:00\n",
       "3453 2020-07-25 23:30:00\n",
       "3454 2020-07-25 23:40:00\n",
       "3455 2020-07-25 23:50:00\n",
       "\n",
       "[3456 rows x 1 columns]"
      ]
     },
     "execution_count": 38,
     "metadata": {},
     "output_type": "execute_result"
    }
   ],
   "source": [
    "future_dates"
   ]
  },
  {
   "cell_type": "code",
   "execution_count": 39,
   "id": "f5fe15c7-1ef1-49e8-8f12-ad44a6e66ea0",
   "metadata": {},
   "outputs": [],
   "source": [
    "future = future_dates.loc[future_dates['ds']>='2020-07-23 00:00:00']"
   ]
  },
  {
   "cell_type": "code",
   "execution_count": 40,
   "id": "988ab147-8364-4d7b-8878-2ec41f4c879a",
   "metadata": {},
   "outputs": [
    {
     "data": {
      "text/html": [
       "<div>\n",
       "<style scoped>\n",
       "    .dataframe tbody tr th:only-of-type {\n",
       "        vertical-align: middle;\n",
       "    }\n",
       "\n",
       "    .dataframe tbody tr th {\n",
       "        vertical-align: top;\n",
       "    }\n",
       "\n",
       "    .dataframe thead th {\n",
       "        text-align: right;\n",
       "    }\n",
       "</style>\n",
       "<table border=\"1\" class=\"dataframe\">\n",
       "  <thead>\n",
       "    <tr style=\"text-align: right;\">\n",
       "      <th></th>\n",
       "      <th>ds</th>\n",
       "    </tr>\n",
       "  </thead>\n",
       "  <tbody>\n",
       "    <tr>\n",
       "      <th>3024</th>\n",
       "      <td>2020-07-23 00:00:00</td>\n",
       "    </tr>\n",
       "    <tr>\n",
       "      <th>3025</th>\n",
       "      <td>2020-07-23 00:10:00</td>\n",
       "    </tr>\n",
       "    <tr>\n",
       "      <th>3026</th>\n",
       "      <td>2020-07-23 00:20:00</td>\n",
       "    </tr>\n",
       "    <tr>\n",
       "      <th>3027</th>\n",
       "      <td>2020-07-23 00:30:00</td>\n",
       "    </tr>\n",
       "    <tr>\n",
       "      <th>3028</th>\n",
       "      <td>2020-07-23 00:40:00</td>\n",
       "    </tr>\n",
       "    <tr>\n",
       "      <th>...</th>\n",
       "      <td>...</td>\n",
       "    </tr>\n",
       "    <tr>\n",
       "      <th>3451</th>\n",
       "      <td>2020-07-25 23:10:00</td>\n",
       "    </tr>\n",
       "    <tr>\n",
       "      <th>3452</th>\n",
       "      <td>2020-07-25 23:20:00</td>\n",
       "    </tr>\n",
       "    <tr>\n",
       "      <th>3453</th>\n",
       "      <td>2020-07-25 23:30:00</td>\n",
       "    </tr>\n",
       "    <tr>\n",
       "      <th>3454</th>\n",
       "      <td>2020-07-25 23:40:00</td>\n",
       "    </tr>\n",
       "    <tr>\n",
       "      <th>3455</th>\n",
       "      <td>2020-07-25 23:50:00</td>\n",
       "    </tr>\n",
       "  </tbody>\n",
       "</table>\n",
       "<p>432 rows × 1 columns</p>\n",
       "</div>"
      ],
      "text/plain": [
       "                      ds\n",
       "3024 2020-07-23 00:00:00\n",
       "3025 2020-07-23 00:10:00\n",
       "3026 2020-07-23 00:20:00\n",
       "3027 2020-07-23 00:30:00\n",
       "3028 2020-07-23 00:40:00\n",
       "...                  ...\n",
       "3451 2020-07-25 23:10:00\n",
       "3452 2020-07-25 23:20:00\n",
       "3453 2020-07-25 23:30:00\n",
       "3454 2020-07-25 23:40:00\n",
       "3455 2020-07-25 23:50:00\n",
       "\n",
       "[432 rows x 1 columns]"
      ]
     },
     "execution_count": 40,
     "metadata": {},
     "output_type": "execute_result"
    }
   ],
   "source": [
    "future"
   ]
  },
  {
   "cell_type": "code",
   "execution_count": 41,
   "id": "af60f057-d202-420b-87ed-89665b2c0e43",
   "metadata": {
    "tags": []
   },
   "outputs": [
    {
     "name": "stderr",
     "output_type": "stream",
     "text": [
      "/usr/local/lib/python3.9/dist-packages/prophet/forecaster.py:896: FutureWarning: The frame.append method is deprecated and will be removed from pandas in a future version. Use pandas.concat instead.\n",
      "  components = components.append(new_comp)\n",
      "/usr/local/lib/python3.9/dist-packages/prophet/forecaster.py:896: FutureWarning: The frame.append method is deprecated and will be removed from pandas in a future version. Use pandas.concat instead.\n",
      "  components = components.append(new_comp)\n"
     ]
    }
   ],
   "source": [
    "forecast = my_model.predict(future)\n",
    "forecast[['ds', 'yhat', 'yhat_lower', 'yhat_upper']].tail()\n",
    "forecast['yhat-s']=forecast['yhat']\n",
    "forecast['yhat-s']=((forecast['yhat-s']-forecast['yhat'].mean())*5)+forecast['yhat'].mean()"
   ]
  },
  {
   "cell_type": "code",
   "execution_count": 86,
   "id": "7a56f92f-b16f-46ad-99e3-6c0377a6e923",
   "metadata": {
    "tags": []
   },
   "outputs": [
    {
     "ename": "ModuleNotFoundError",
     "evalue": "No module named 'sklearn'",
     "output_type": "error",
     "traceback": [
      "\u001b[0;31m---------------------------------------------------------------------------\u001b[0m",
      "\u001b[0;31mModuleNotFoundError\u001b[0m                       Traceback (most recent call last)",
      "Input \u001b[0;32mIn [86]\u001b[0m, in \u001b[0;36m<module>\u001b[0;34m\u001b[0m\n\u001b[0;32m----> 1\u001b[0m \u001b[38;5;28;01mfrom\u001b[39;00m \u001b[38;5;21;01msklearn\u001b[39;00m\u001b[38;5;21;01m.\u001b[39;00m\u001b[38;5;21;01mmetrics\u001b[39;00m \u001b[38;5;28;01mimport\u001b[39;00m mean_absolute_error\n",
      "\u001b[0;31mModuleNotFoundError\u001b[0m: No module named 'sklearn'"
     ]
    }
   ],
   "source": [
    "from sklearn.metrics import mean_absolute_error"
   ]
  },
  {
   "cell_type": "code",
   "execution_count": 42,
   "id": "c09e1dc3-e988-4392-98d0-efe9116aac6e",
   "metadata": {
    "tags": []
   },
   "outputs": [],
   "source": [
    "# calculate performance\n",
    "y_true = df2['y'][-(6*24*3):].values\n",
    "y_pred = forecast['yhat-s'].values"
   ]
  },
  {
   "cell_type": "code",
   "execution_count": 43,
   "id": "d65c170b-9434-45bc-acff-b099da94bc90",
   "metadata": {},
   "outputs": [
    {
     "data": {
      "image/png": "[encoded data removed]",
      "text/plain": [
       "<Figure size 576x288 with 1 Axes>"
      ]
     },
     "metadata": {},
     "output_type": "display_data"
    }
   ],
   "source": [
    "# Draw performance\n",
    "plt.figure(figsize=(8, 4))\n",
    "plt.plot(y_true, label='Actual')\n",
    "plt.plot(y_pred, label='Predicted')\n",
    "plt.legend()\n",
    "plt.title('Three Day Forecast')\n",
    "plt.show()"
   ]
  },
  {
   "cell_type": "code",
   "execution_count": null,
   "id": "5a8adc33-f9cf-4f0d-95ad-4274bb624be6",
   "metadata": {},
   "outputs": [],
   "source": [
    "# calculate performance\n",
    "len(forecast)\n",
    "y_true = df['y'][-432:].values\n",
    "y_pred = forecast['yhat-s'].values\n",
    "mae = mean_absolute_error(y_true, y_pred)\n",
    "print('MAE: %.3f' % mae)\n",
    "\n",
    "# Draw performance\n",
    "plt.figure(figsize=(8, 4))\n",
    "plt.plot(y_true, label='Actual')\n",
    "plt.plot(y_pred, label='Predicted')\n",
    "plt.legend()\n",
    "plt.title('Three Day Forecast')\n",
    "plt.show()"
   ]
  }
 ],
 "metadata": {
  "kernelspec": {
   "display_name": "Python 3 (ipykernel)",
   "language": "python",
   "name": "python3"
  },
  "language_info": {
   "codemirror_mode": {
    "name": "ipython",
    "version": 3
   },
   "file_extension": ".py",
   "mimetype": "text/x-python",
   "name": "python",
   "nbconvert_exporter": "python",
   "pygments_lexer": "ipython3",
   "version": "3.9.7"
  }
 },
 "nbformat": 4,
 "nbformat_minor": 5
}
